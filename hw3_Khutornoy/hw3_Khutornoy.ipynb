{
 "cells": [
  {
   "cell_type": "markdown",
   "metadata": {},
   "source": [
    "### Алгоритмы интеллектуальной обработки больших объемов данных\n",
    "## Домашнее задание №3 - Дерево решений\n"
   ]
  },
  {
   "cell_type": "markdown",
   "metadata": {},
   "source": [
    "**Общая информация**\n",
    "\n",
    "**Срок сдачи:** 27 апреля 2020, 08:30   \n",
    "**Штраф за опоздание:** -2 балла после 08:30 27 апреля, -4 балла после 08:30 4 мая, -6 баллов после 08:30 11 мая, -8 баллов после 08:30 18 мая.\n",
    "\n",
    "При отправлении ДЗ указывайте фамилию в названии файла Присылать ДЗ необходимо в виде ссылки на свой github репозиторий на почту ml1.sphere@mail.ru с указанием темы в следующем формате:\n",
    "[ML0220, Задание 3] Фамилия Имя. \n",
    "\n",
    "\n",
    "Используйте данный Ipython Notebook при оформлении домашнего задания."
   ]
  },
  {
   "cell_type": "markdown",
   "metadata": {},
   "source": [
    "##  Реализуем дерево решений (3 балла)"
   ]
  },
  {
   "cell_type": "markdown",
   "metadata": {},
   "source": [
    "Допишите недостающие части дерева решений. Ваша реализация дерева должна работать по точности не хуже DecisionTreeClassifier из sklearn.\n",
    "Внимание: если Вас не устраивает предложенная структура хранения дерева, Вы без потери баллов можете сделать свой класс DecisionTreeClassifier, в котором сами полностью воспроизведете алгоритм дерева решений. Обязательно в нем иметь только функции fit, predict"
   ]
  },
  {
   "cell_type": "code",
   "execution_count": 4224,
   "metadata": {},
   "outputs": [],
   "source": [
    "import matplotlib.pyplot as plt\n",
    "import numpy as np\n",
    "import pandas as pd\n",
    "\n",
    "from sklearn.datasets import load_wine\n",
    "from sklearn.ensemble import RandomForestClassifier\n",
    "from sklearn.metrics import accuracy_score, f1_score, average_precision_score, recall_score\n",
    "from sklearn.model_selection import KFold, train_test_split, cross_val_score\n",
    "from sklearn.tree import DecisionTreeClassifier\n",
    "from tqdm.notebook import tqdm\n",
    "from sklearn.base import BaseEstimator, ClassifierMixin\n",
    "import warnings"
   ]
  },
  {
   "cell_type": "code",
   "execution_count": 4378,
   "metadata": {},
   "outputs": [],
   "source": [
    "class MyDecisionTreeClassifier(BaseEstimator, ClassifierMixin):\n",
    "    NON_LEAF_TYPE = 0\n",
    "    LEAF_TYPE = 1\n",
    "\n",
    "    def __init__(self, min_samples_split=2, max_depth=5, criterion='gini'):\n",
    "        \"\"\"\n",
    "        criterion -- критерий расщепления. необходимо релизовать три:\n",
    "        Ошибка классификации, Индекс Джини, Энтропийный критерий\n",
    "        max_depth -- максимальная глубина дерева\n",
    "        min_samples_split -- минимальное число объектов в листе, чтобы сделать новый сплит\n",
    "        \"\"\"\n",
    "        self.min_samples_split = min_samples_split\n",
    "        self.max_depth = max_depth\n",
    "        self.num_class = -1\n",
    "        # Для последнего задания\n",
    "        self.feature_importances_ = None\n",
    "        self.criterion = criterion\n",
    "        # Структура, которая описывает дерево\n",
    "        # Представляет словарь, где для  node_id (айдишник узла дерева) храним\n",
    "        # (тип_узла, айдишник признака сплита, порог сплита) если тип NON_LEAF_TYPE\n",
    "        # (тип_узла, предсказание класса, вероятность класса) если тип LEAF_TYPE\n",
    "        # Подразумевается, что у каждого node_id в дереве слева \n",
    "        # узел с айди 2 * node_id + 1, а справа 2 * node_id + 2\n",
    "        self.tree = dict()\n",
    "        if criterion == 'gini':\n",
    "            self.G_function = self.__gini\n",
    "        elif criterion == 'entropy':\n",
    "            self.G_function = self.__entropy\n",
    "        elif criterion == 'misclass':\n",
    "            self.G_function = self.__misclass\n",
    "        else:\n",
    "            print('name error')\n",
    "            raise\n",
    "    \n",
    "    def __gini(self, p):\n",
    "        return 1 - (p**2).sum(axis=1)\n",
    "\n",
    "    def __entropy(self, p):\n",
    "        return - np.sum(p*np.log2(p+0.0000001), axis=1)\n",
    "\n",
    "    def __misclass(self, p):\n",
    "        return 1 - p.max(axis=1)\n",
    "\n",
    "    \n",
    "    def __get_feature_ids(self, n_feature):\n",
    "        return range(n_feature)\n",
    "    \n",
    "    def __sort_samples(self, x, y):\n",
    "        sorted_idx = x.argsort()\n",
    "        return x[sorted_idx], y[sorted_idx]\n",
    "\n",
    "    def __div_samples(self, x, y, feature_id, threshold):\n",
    "        \"\"\"\n",
    "        Разделяет объекты на 2 множества\n",
    "        x -- матрица объектов\n",
    "        y -- вектор ответов\n",
    "        feature_id -- айдишник признака, по которому делаем сплит\n",
    "        threshold -- порог, по которому делаем сплит\n",
    "        \"\"\"\n",
    "        left_mask = x[:, feature_id] > threshold\n",
    "        right_mask = ~left_mask\n",
    "        return x[left_mask], x[right_mask], y[left_mask], y[right_mask]\n",
    "    \n",
    "    def __find_threshold(self, x, y):\n",
    "        x_sort, y_sort=self.__sort_samples(x,y)\n",
    "        \n",
    "        cut = np.int(self.min_samples_split / 2 - 1)\n",
    "        y_sort_slit = y_sort[cut:-cut] if cut != 0 else y_sort\n",
    "        indexes = np.where(y_sort_slit[:-1] != y_sort_slit[1:])[0] + (cut + 1)\n",
    "        \n",
    "        #Отсутствие смещения класса\n",
    "        if len(indexes) == 0:\n",
    "            return np.inf, None\n",
    "        \n",
    "        eq_count = indexes - np.append([cut], indexes[:-1])\n",
    "        one_hot_code = np.zeros((indexes.shape[0], self.num_class))\n",
    "        one_hot_code[np.arange(indexes.shape[0]), y_sort[indexes - 1]] = 1\n",
    "        \n",
    "        class_increments = one_hot_code * eq_count.reshape(-1, 1)\n",
    "        class_increments[0] = class_increments[0] + np.bincount(y_sort[:cut], minlength=self.num_class)\n",
    "        \n",
    "        \n",
    "        # количество классов слева и справа в разбиении \n",
    "        l_class_count = np.cumsum(class_increments, axis=0)\n",
    "        r_class_count = np.bincount(y_sort, minlength=self.num_class) - l_class_count\n",
    "    \n",
    "        # количество объектов слева и справа в разбиении\n",
    "        l_sizes = indexes.reshape(l_class_count.shape[0], 1)\n",
    "        r_sizes = y_sort.shape[0] - l_sizes\n",
    "        \n",
    "        gs_l = self.G_function(l_class_count/l_sizes)*(l_sizes/(l_sizes+r_sizes)).T\n",
    "        gs_r = self.G_function(r_class_count/r_sizes)*(r_sizes/(l_sizes+r_sizes)).T\n",
    "        gs = gs_l.T + gs_r.T\n",
    "\n",
    "        indx = np.argmin(gs)\n",
    "        \n",
    "        st_ind = l_sizes[indx][0]\n",
    "        \n",
    "        return gs[indx], (x_sort[st_ind - 1] + x_sort[st_ind]) / 2.0\n",
    "    \n",
    "    \n",
    "    def __fit_node(self, x, y, node_id, depth):\n",
    "        #создаем терминал.\n",
    "        if (self.max_depth<=depth) or y.size < self.min_samples_split:\n",
    "            self.tree[node_id] = (self.LEAF_TYPE, np.bincount(y).argmax(), np.bincount(y).astype(float) / y.size)\n",
    "            return\n",
    "                \n",
    "        # разбиваем\n",
    "        threshold = np.array([self.__find_threshold(x[:, i], y) for i in self.__get_feature_ids(x.shape[1])])\n",
    "        \n",
    "        # оптимальная группаа\n",
    "        best_id = threshold[:, 0].argmin()\n",
    "        best_threshold = threshold[best_id, 1]\n",
    "        \n",
    "        #если узел создался и нашлась группа, то спускаемся по дереву дальше, если нет, то создаем терминал.\n",
    "        if best_threshold == None:\n",
    "            self.tree[node_id] = (self.LEAF_TYPE, np.bincount(y).argmax(), np.bincount(y).astype(float) / y.size)\n",
    "        else:\n",
    "            x_l, x_r, y_l, y_r =self.__div_samples(x, y, best_id, best_threshold)\n",
    "            if x_l.size == 0 or x_r.size == 0:\n",
    "                self.tree[node_id] = (self.LEAF_TYPE,np.bincount(y).argmax(),np.bincount(y).astype(float) / y.size)\n",
    "            else:\n",
    "                self.tree[node_id] = (self.NON_LEAF_TYPE,best_id, best_threshold)\n",
    "                self.__fit_node(x_l, y_l,2 * node_id + 1, depth + 1)\n",
    "                self.__fit_node(x_r, y_r, 2 * node_id + 2, depth + 1)\n",
    "            # Для последнего этапа. Очевидно, лучше считать здесь. Просто считаем gain лучших фичей и плюсуем \n",
    "            # в feature_importances_ по индексу\n",
    "            if self.G_function == self.__gini:\n",
    "                g=(1 - np.sum(np.unique(y, return_counts=True)[1]** 2 / y.size ** 2))\n",
    "                g_l=(1 - np.sum(np.unique(y_l, return_counts=True)[1] ** 2 / y_l.size ** 2))\n",
    "                g_r=(1 - np.sum(np.unique(y_r, return_counts=True)[1] ** 2 / y_r.size ** 2))\n",
    "                self.feature_importances_[best_id] += (y.size*g - y_l.size*g_l - y_r.size*g_r)/y.size\n",
    "            if self.G_function == self.__entropy:\n",
    "                g=-(np.sum((np.unique(y, return_counts=True)[1] / y.size) * np.log2(np.unique(y, return_counts=True)[1] / y.size)))\n",
    "                g_l=-(np.sum((np.unique(y_l, return_counts=True)[1] / y_l.size) * np.log2(np.unique(y_l, return_counts=True)[1] / y_l.size)))\n",
    "                g_r=-(np.sum((np.unique(y_r, return_counts=True)[1] / y_r.size) * np.log2(np.unique(y_r, return_counts=True)[1] / y_r.size)))\n",
    "                self.feature_importances_[best_id] += (y.size*g - y_l.size*g_l - y_r.size*g_r)/y.size   \n",
    "            elif self.G_function == self.__misclass:\n",
    "                g=(1 - np.max(np.sum(np.unique(y, return_counts=True)[1] / y.size)))\n",
    "                g_l=(1 - np.max(np.sum(np.unique(y_l, return_counts=True)[1] / y.size)))\n",
    "                g_r=(1 - np.max(np.sum(np.unique(y_r, return_counts=True)[1] / y.size)))\n",
    "                self.feature_importances_[best_id] += (y.size*g - y_l.size*g_l - y_r.size*g_r)/y.size\n",
    "            \n",
    "    \n",
    "    def fit(self, x, y):\n",
    "        \"\"\"\n",
    "        Рекурсивно строим дерево решений\n",
    "        Начинаем с корня node_id 0\n",
    "        \"\"\"\n",
    "        self.num_class = np.unique(y).size\n",
    "        self.feature_importances_ = np.zeros(x.shape[1], dtype=np.float)\n",
    "        self.total = y.size\n",
    "        self.__fit_node(x, y, 0, 0)\n",
    "\n",
    "    def __predict_class(self, x, node_id):\n",
    "        node = self.tree[node_id]\n",
    "        if node[0] == self.__class__.NON_LEAF_TYPE:\n",
    "            _, feature_id, threshold = node\n",
    "            if x[feature_id] > threshold:\n",
    "                return self.__predict_class(x, 2 * node_id + 1)\n",
    "            else:\n",
    "                return self.__predict_class(x, 2 * node_id + 2)\n",
    "        else:\n",
    "            return node[1]\n",
    "        \n",
    "    def predict(self, X):\n",
    "        \"\"\"\n",
    "        Вызывает predict для всех объектов из матрицы X\n",
    "        \"\"\"\n",
    "        return np.array([self.__predict_class(x, 0) for x in X])\n",
    "    \n",
    "    def fit_predict(self, x_train, y_train, predicted_x):\n",
    "        self.fit(x_train, y_train)\n",
    "        return self.predict(predicted_x)\n",
    "    \n",
    "    def get_feature_importance(self):\n",
    "        \"\"\"\n",
    "        Возвращает важность признаков\n",
    "        \"\"\"\n",
    "        # индексы десяти главных фичей\n",
    "        return (self.feature_importances_)"
   ]
  },
  {
   "cell_type": "code",
   "execution_count": 4232,
   "metadata": {},
   "outputs": [
    {
     "name": "stdout",
     "output_type": "stream",
     "text": [
      "Not my\n",
      "0.8885003885003885\n",
      "My\n",
      "0.9487179487179486\n"
     ]
    }
   ],
   "source": [
    "wine = load_wine()\n",
    "X_train, X_test, y_train, y_test = train_test_split(wine.data, wine.target, test_size=0.1, stratify=wine.target)\n",
    "\n",
    "my_clf = MyDecisionTreeClassifier(min_samples_split=2)\n",
    "clf = DecisionTreeClassifier(min_samples_split=2)\n",
    "\n",
    "clf.fit(X_train, y_train)\n",
    "my_clf.fit(X_train, y_train)\n",
    "\n",
    "print(\"Not my\")\n",
    "print(f1_score(y_pred=clf.predict(X_test), y_true=y_test, average='macro'))\n",
    "print(\"My\")\n",
    "print(f1_score(y_pred=my_clf.predict(X_test), y_true=y_test, average='macro'))"
   ]
  },
  {
   "cell_type": "code",
   "execution_count": 4233,
   "metadata": {},
   "outputs": [
    {
     "name": "stdout",
     "output_type": "stream",
     "text": [
      "{0: (0, 12, 755.0), 1: (0, 6, 2.165), 3: (0, 3, 27.5), 7: (1, 1, array([0., 1.])), 8: (1, 0, array([1.])), 4: (0, 1, 2.085), 9: (1, 2, array([0., 0., 1.])), 10: (1, 1, array([0., 1.])), 2: (0, 6, 1.28), 5: (0, 9, 7.3), 11: (1, 2, array([0., 0., 1.])), 12: (0, 0, 13.175), 25: (0, 0, 13.29), 51: (1, 1, array([0., 1.])), 52: (1, 0, array([1.])), 26: (1, 1, array([0., 1.])), 6: (0, 9, 3.725), 13: (1, 2, array([0., 0., 1.])), 14: (1, 1, array([0., 1.]))}\n"
     ]
    }
   ],
   "source": [
    "print(my_clf.tree)"
   ]
  },
  {
   "cell_type": "markdown",
   "metadata": {},
   "source": [
    "## Ускоряем дерево решений (2 балла)\n",
    "Добиться скорости работы на fit не медленнее чем в 10 раз sklearn на данных wine. \n",
    "Для этого используем numpy."
   ]
  },
  {
   "cell_type": "code",
   "execution_count": 4247,
   "metadata": {
    "scrolled": true
   },
   "outputs": [
    {
     "name": "stdout",
     "output_type": "stream",
     "text": [
      "Wall time: 1.97 ms\n"
     ]
    },
    {
     "data": {
      "text/plain": [
       "DecisionTreeClassifier(class_weight=None, criterion='gini', max_depth=None,\n",
       "                       max_features=None, max_leaf_nodes=None,\n",
       "                       min_impurity_decrease=0.0, min_impurity_split=None,\n",
       "                       min_samples_leaf=1, min_samples_split=2,\n",
       "                       min_weight_fraction_leaf=0.0, presort=False,\n",
       "                       random_state=None, splitter='best')"
      ]
     },
     "execution_count": 4247,
     "metadata": {},
     "output_type": "execute_result"
    }
   ],
   "source": [
    "%time clf.fit(X_train, y_train)"
   ]
  },
  {
   "cell_type": "code",
   "execution_count": 4325,
   "metadata": {},
   "outputs": [
    {
     "name": "stdout",
     "output_type": "stream",
     "text": [
      "Wall time: 11.9 ms\n"
     ]
    }
   ],
   "source": [
    "%time my_clf.fit(X_train, y_train)"
   ]
  },
  {
   "cell_type": "markdown",
   "metadata": {},
   "source": [
    "## Боевое применение (3 балла)\n",
    "\n",
    "На практике Вы познакомились с датасетом Speed Dating Data. В нем каждая пара в быстрых свиданиях характеризуется определенным набором признаков. Задача -- предсказать, произойдет ли матч пары (колонка match). \n",
    "\n",
    "Пример работы с датасетом можете найти в практике пункт 2\n",
    "https://github.com/VVVikulin/ml1.sphere/blob/master/2019-09/lecture_06/pract-trees.ipynb\n",
    "\n",
    "Данные и описания колонок лежат тут\n",
    "https://cloud.mail.ru/public/8nHV/p6J7wY1y1/speed-dating-experiment/"
   ]
  },
  {
   "cell_type": "markdown",
   "metadata": {},
   "source": [
    "Скачайте датасет, обработайте данные, как показано на семинаре или своим собственным способом. Обучите дерево классифкации. В качестве таргета возьмите колонку 'match'. Постарайтесь хорошо обработать признаки, чтобы выбить максимальную точность. Если точность будет близка к случайному гаданию, задание не будет защитано. \n"
   ]
  },
  {
   "cell_type": "code",
   "execution_count": 4393,
   "metadata": {},
   "outputs": [],
   "source": [
    "df = pd.read_csv('Speed Dating Data.csv', encoding='latin1')\n",
    "\n",
    "#Удалим очевидно лишние колонки\n",
    "df = df.iloc[:, :97]\n",
    "df = df.drop(['id', 'idg', 'condtn', 'round', 'position',\n",
    "              'positin1', 'order', 'partner', 'age_o', 'race_o',\n",
    "              'pf_o_att', 'pf_o_sin', 'pf_o_int', 'pf_o_fun',\n",
    "              'pf_o_amb', 'pf_o_sha', 'dec_o', 'attr_o',\n",
    "              'sinc_o', 'intel_o', 'fun_o', 'amb_o',\n",
    "              'shar_o', 'like_o', 'prob_o', 'met_o', 'field',\n",
    "              'undergra', 'from', 'zipcode', 'career',\n",
    "              'sports', 'tvsports', 'exercise', 'dining',\n",
    "              'museums', 'art', 'hiking', 'gaming',\n",
    "              'clubbing', 'reading', 'tv', 'theater',\n",
    "              'movies', 'concerts', 'music', 'shopping', 'yoga',\n",
    "              'expnum', ], axis=1)\n",
    "\n",
    "#Займёмся коррекцией колонок, удалим NaN, бесконечности и т. п.\n",
    "df = df.dropna(subset=['age'])\n",
    "df.loc[:, 'field_cd'] = df.loc[:, 'field_cd'].fillna(19)\n",
    "df.loc[:, 'mn_sat'] = df.loc[:, 'mn_sat'].str.replace(',', '').astype(np.float)\n",
    "df.loc[:, 'mn_sat'] = df.mn_sat.fillna(-999)\n",
    "df.loc[:, 'tuition'] = df.loc[:, 'tuition'].str.replace(',', '').astype(np.float)\n",
    "df.loc[:, 'tuition'] = df.tuition.fillna(-999)\n",
    "df = df.dropna(subset=['imprelig', 'imprace'])\n",
    "df.loc[:, 'income'] = df.loc[:, 'income'].str.replace(',', '').astype(np.float)\n",
    "df.loc[:, 'income'] = df.loc[:, 'income'].fillna(-999)\n",
    "df = df.dropna(subset=['date'])\n",
    "df.loc[:, 'career_c'] = df.loc[:, 'career_c'].fillna(18)\n",
    "\n",
    "\n",
    "feat = ['iid', 'wave', 'attr1_1', 'sinc1_1', 'intel1_1', 'fun1_1', 'amb1_1', 'shar1_1']\n",
    "temp = df.drop_duplicates(subset=['iid', 'wave']).loc[:, feat]\n",
    "df.loc[:, 'temp_totalsum'] = df.loc[:, ['attr1_1', 'sinc1_1', 'intel1_1', 'fun1_1', 'amb1_1', 'shar1_1']].sum(axis=1)\n",
    "\n",
    "df.loc[:, ['attr1_1', 'sinc1_1', 'intel1_1', 'fun1_1', 'amb1_1', 'shar1_1']] =\\\n",
    "    (df.loc[:, ['attr1_1', 'sinc1_1', 'intel1_1', 'fun1_1', 'amb1_1', 'shar1_1']].T / df.loc[:, 'temp_totalsum'].T).T * 100\n",
    "\n",
    "\n",
    "feat = ['iid', 'wave', 'attr2_1', 'sinc2_1', 'intel2_1', 'fun2_1', 'amb2_1', 'shar2_1']\n",
    "\n",
    "temp = df.drop_duplicates(subset=['iid', 'wave']).loc[:, feat]\n",
    "temp.loc[:, 'totalsum'] = temp.iloc[:, 2:].sum(axis=1)\n",
    "df.loc[:, 'temp_totalsum'] = df.loc[:, ['attr2_1', 'sinc2_1', 'intel2_1', 'fun2_1', 'amb2_1', 'shar2_1']].sum(axis=1)\n",
    "\n",
    "df.loc[:, ['attr2_1', 'sinc2_1', 'intel2_1', 'fun2_1', 'amb2_1', 'shar2_1']] =\\\n",
    "    (df.loc[:, ['attr2_1', 'sinc2_1', 'intel2_1', 'fun2_1', 'amb2_1', 'shar2_1']].T / df.loc[:, 'temp_totalsum'].T).T * 100\n",
    "\n",
    "df = df.drop(['temp_totalsum'], axis=1)\n",
    "\n",
    "\n",
    "for i in [4, 5]:\n",
    "    feat = ['attr{}_1'.format(i), 'sinc{}_1'.format(i),\n",
    "            'intel{}_1'.format(i), 'fun{}_1'.format(i),\n",
    "            'amb{}_1'.format(i), 'shar{}_1'.format(i)]\n",
    "    if i != 4:\n",
    "        feat.remove('shar{}_1'.format(i))\n",
    "    df = df.drop(feat, axis=1)\n",
    "    \n",
    "df = df.drop(['wave'], axis=1)\n",
    "\n",
    "df_male = df.query('gender == 1').drop_duplicates(subset=['iid', 'pid']).drop(['gender'], axis=1).dropna()\n",
    "df_female = df.query('gender == 0').drop_duplicates(subset=['iid']).drop(['gender', 'match', 'int_corr', 'samerace'], axis=1)\\\n",
    "                                   .dropna()\n",
    "df_female.columns = df_female.columns + '_f'\n",
    "df_female = df_female.drop(['pid_f'], axis=1)\n",
    "df_pair = df_male.join(df_female.set_index('iid_f'), on='pid', how='inner')\n",
    "df_pair = df_pair.drop(['iid', 'pid'], axis=1)\n",
    "\n",
    "feature_names = df_pair.columns[1:]"
   ]
  },
  {
   "cell_type": "code",
   "execution_count": 4396,
   "metadata": {},
   "outputs": [
    {
     "name": "stdout",
     "output_type": "stream",
     "text": [
      "Not my\n",
      "0.5017679202828672\n",
      "My\n",
      "0.5520351855999673\n"
     ]
    }
   ],
   "source": [
    "X = df_pair.iloc[:, 1:].values\n",
    "y = df_pair.iloc[:, 0].values\n",
    "\n",
    "X_train, X_test, y_train, y_test = train_test_split(X, y, test_size=0.1)\n",
    "\n",
    "my_clf = MyDecisionTreeClassifier()\n",
    "clf = DecisionTreeClassifier(min_samples_split=2,max_depth=5,criterion='gini') #чтобы установить равные условия(я про аргументы)\n",
    "\n",
    "clf.fit(X_train, y_train)\n",
    "my_clf.fit(X_train, y_train)\n",
    "\n",
    "print(\"Not my\")\n",
    "print(f1_score(y_pred=clf.predict(X_test), y_true=y_test, average='macro'))\n",
    "print(\"My\")\n",
    "print(f1_score(y_pred=my_clf.predict(X_test), y_true=y_test, average='macro'))"
   ]
  },
  {
   "cell_type": "markdown",
   "metadata": {},
   "source": [
    "# Кросс-валидация"
   ]
  },
  {
   "cell_type": "code",
   "execution_count": 4334,
   "metadata": {},
   "outputs": [],
   "source": [
    "samples=range(1, 71)\n",
    "crits=['gini','entropy','misclass']\n",
    "depths=range(1, 21)"
   ]
  },
  {
   "cell_type": "code",
   "execution_count": 4397,
   "metadata": {},
   "outputs": [
    {
     "data": {
      "application/vnd.jupyter.widget-view+json": {
       "model_id": "b10139bc64fd45a8bb00083dfb2ebe08",
       "version_major": 2,
       "version_minor": 0
      },
      "text/plain": [
       "HBox(children=(IntProgress(value=0, max=3), HTML(value='')))"
      ]
     },
     "metadata": {},
     "output_type": "display_data"
    },
    {
     "name": "stdout",
     "output_type": "stream",
     "text": [
      "\n"
     ]
    }
   ],
   "source": [
    "#Если precission и recall равны 0, то f1 не сможет посчитаться по формуле, а значит будет установлен нулевой score\n",
    "#Это нормально, так как нулевые precission и recall нам не подходят\n",
    "#Поэтому просто игнорируем замечания f1-score, чтобы не нервничать\n",
    "warnings.filterwarnings('ignore') \n",
    "\n",
    "m_c=[]\n",
    "for crit in tqdm(crits):\n",
    "    my_clf = MyDecisionTreeClassifier(criterion=crit)\n",
    "    my_clf.fit(X_train, y_train)\n",
    "    valid=cross_val_score(my_clf, X_train, y_train, cv=8, scoring=\"f1\").mean()\n",
    "    m_c.append(valid)"
   ]
  },
  {
   "cell_type": "code",
   "execution_count": 4398,
   "metadata": {},
   "outputs": [
    {
     "data": {
      "text/plain": [
       "'gini'"
      ]
     },
     "execution_count": 4398,
     "metadata": {},
     "output_type": "execute_result"
    }
   ],
   "source": [
    "max_crit_f1=crits[np.argmax(m_c)]\n",
    "max_crit_f1"
   ]
  },
  {
   "cell_type": "code",
   "execution_count": 4337,
   "metadata": {},
   "outputs": [
    {
     "data": {
      "application/vnd.jupyter.widget-view+json": {
       "model_id": "8d381b5ba3ff4cc594d59e769a22d76e",
       "version_major": 2,
       "version_minor": 0
      },
      "text/plain": [
       "HBox(children=(IntProgress(value=0, max=70), HTML(value='')))"
      ]
     },
     "metadata": {},
     "output_type": "display_data"
    },
    {
     "name": "stdout",
     "output_type": "stream",
     "text": [
      "\n"
     ]
    }
   ],
   "source": [
    "warnings.filterwarnings('ignore') \n",
    "\n",
    "max_score=0\n",
    "for sample in tqdm(samples):\n",
    "    for depth in (depths):\n",
    "        my_clf = MyDecisionTreeClassifier(min_samples_split=sample, max_depth=depth, criterion=max_crit_f1)\n",
    "        my_clf.fit(X_train, y_train)\n",
    "        valid=cross_val_score(my_clf, X_train, y_train, cv=8, scoring=\"f1\").mean()\n",
    "        if valid>max_score:\n",
    "            max_score=valid\n",
    "            max_samp_f1=sample\n",
    "            max_depth_f1=depth"
   ]
  },
  {
   "cell_type": "code",
   "execution_count": 4413,
   "metadata": {},
   "outputs": [
    {
     "name": "stdout",
     "output_type": "stream",
     "text": [
      "4 11 gini\n"
     ]
    }
   ],
   "source": [
    "print(max_samp_f1, max_depth_f1, max_crit_f1)"
   ]
  },
  {
   "cell_type": "code",
   "execution_count": 4419,
   "metadata": {},
   "outputs": [
    {
     "name": "stdout",
     "output_type": "stream",
     "text": [
      "0.5716216927965729\n",
      "0.8475\n"
     ]
    }
   ],
   "source": [
    "my_clf = MyDecisionTreeClassifier(min_samples_split=max_samp_f1, max_depth=max_depth_f1, criterion=max_crit_f1)\n",
    "my_clf.fit(X_train, y_train)\n",
    "print(f1_score(y_pred=my_clf.predict(X_test), y_true=y_test, average='macro'))\n",
    "print(accuracy_score(y_pred=my_clf.predict(X_test), y_true=y_test))"
   ]
  },
  {
   "cell_type": "markdown",
   "metadata": {},
   "source": [
    "# Графики"
   ]
  },
  {
   "cell_type": "code",
   "execution_count": 4420,
   "metadata": {},
   "outputs": [
    {
     "data": {
      "application/vnd.jupyter.widget-view+json": {
       "model_id": "585b5ef914534148b3e04204e6d29a82",
       "version_major": 2,
       "version_minor": 0
      },
      "text/plain": [
       "HBox(children=(IntProgress(value=0, max=70), HTML(value='')))"
      ]
     },
     "metadata": {},
     "output_type": "display_data"
    },
    {
     "name": "stdout",
     "output_type": "stream",
     "text": [
      "\n"
     ]
    },
    {
     "data": {
      "application/vnd.jupyter.widget-view+json": {
       "model_id": "08c5b2a6b54941b5bf65ecd0a58fa7a1",
       "version_major": 2,
       "version_minor": 0
      },
      "text/plain": [
       "HBox(children=(IntProgress(value=0, max=20), HTML(value='')))"
      ]
     },
     "metadata": {},
     "output_type": "display_data"
    },
    {
     "name": "stdout",
     "output_type": "stream",
     "text": [
      "\n"
     ]
    }
   ],
   "source": [
    "warnings.filterwarnings('ignore') \n",
    "m1=[]\n",
    "m2=[]\n",
    "for samp in tqdm(samples):\n",
    "    my_clf = MyDecisionTreeClassifier(min_samples_split=samp, max_depth=max_depth_f1, criterion=max_crit_f1)\n",
    "    my_clf.fit(X_train, y_train)\n",
    "    m1.append(f1_score(y_pred=my_clf.predict(X_test), y_true=y_test, average='macro'))\n",
    "\n",
    "for depth in tqdm(depths):\n",
    "    my_clf = MyDecisionTreeClassifier(max_depth=depth, criterion=max_crit_f1)\n",
    "    my_clf.fit(X_train, y_train)\n",
    "    m2.append(f1_score(y_pred=my_clf.predict(X_test), y_true=y_test, average='macro'))"
   ]
  },
  {
   "cell_type": "code",
   "execution_count": 4421,
   "metadata": {},
   "outputs": [
    {
     "data": {
      "image/png": "[encoded data removed]",
      "text/plain": [
       "<Figure size 1080x360 with 1 Axes>"
      ]
     },
     "metadata": {
      "needs_background": "light"
     },
     "output_type": "display_data"
    }
   ],
   "source": [
    "%matplotlib inline\n",
    "\n",
    "plt.figure(figsize=(15, 5))\n",
    "plt.plot(samples,m1,'r')\n",
    "plt.ylabel('f1_score')\n",
    "plt.xlabel('Min samples for split')\n",
    "\n",
    "fig.tight_layout()"
   ]
  },
  {
   "cell_type": "markdown",
   "metadata": {},
   "source": [
    "Интересно, что у Джини максимумы вначале, что нельзя сказать про ту же энтропию. Почему? Не знаю. Но интересное наблюдение."
   ]
  },
  {
   "cell_type": "code",
   "execution_count": 4422,
   "metadata": {},
   "outputs": [
    {
     "data": {
      "image/png": "[encoded data removed]",
      "text/plain": [
       "<Figure size 1080x360 with 1 Axes>"
      ]
     },
     "metadata": {
      "needs_background": "light"
     },
     "output_type": "display_data"
    }
   ],
   "source": [
    "%matplotlib inline\n",
    "\n",
    "plt.figure(figsize=(15, 5))\n",
    "plt.plot(depths,m2,'r')\n",
    "plt.ylabel('f1_score')\n",
    "plt.ylabel('Max depth')\n",
    "\n",
    "fig.tight_layout()"
   ]
  },
  {
   "cell_type": "markdown",
   "metadata": {},
   "source": [
    "## Находим самые важные признаки (2 балла)\n",
    "\n"
   ]
  },
  {
   "cell_type": "markdown",
   "metadata": {},
   "source": [
    "По построенному дереву  легко понять, какие признаки лучше всего помогли решить задачу. Часто это бывает нужно  не только  для сокращения размерности в данных, но и для лучшего понимания прикладной задачи. Например, Вы хотите понять, какие признаки стоит еще конструировать -- для этого нужно понимать, какие из текущих лучше всего работают в дереве. "
   ]
  },
  {
   "cell_type": "markdown",
   "metadata": {},
   "source": [
    "Самый простой метод -- посчитать число сплитов, где использовался данные признак. Это не лучший вариант, так как по признаку который принимает всего 2 значения, но который почти точно разделяет выборку, число сплитов будет очень 1, но при этом признак сам очень хороший. \n",
    "В этом задании предлагается для каждого признака считать суммарный gain (в лекции обозначено как Q) при использовании этого признака в сплите. Тогда даже у очень хороших признаков с маленьким число сплитов это значение должно быть довольно высоким.  "
   ]
  },
  {
   "cell_type": "markdown",
   "metadata": {},
   "source": [
    "Реализовать это довольно просто: создаете словарь номер фичи : суммарный гейн и добавляете в нужную фичу каждый раз, когда используете ее при построении дерева. "
   ]
  },
  {
   "cell_type": "markdown",
   "metadata": {},
   "source": [
    "Добавьте функционал, который определяет значения feature importance. Обучите дерево на датасете Speed Dating Data.\n",
    "Выведите 10 главных фичей по важности."
   ]
  },
  {
   "cell_type": "code",
   "execution_count": 4423,
   "metadata": {},
   "outputs": [
    {
     "name": "stdout",
     "output_type": "stream",
     "text": [
      "['income', 'shar2_1', 'income_f', 'field_cd', 'sinc2_1_f', 'age', 'attr3_1_f', 'age_f', 'race_f', 'int_corr']\n"
     ]
    }
   ],
   "source": [
    "my_clf = MyDecisionTreeClassifier(min_samples_split=max_samp_f1, max_depth=max_depth_f1, criterion=max_crit_f1)\n",
    "my_clf.fit(X_train, y_train)\n",
    "Most_important=feature_names[np.argsort(my_clf.get_feature_importance())[-10:]]\n",
    "\n",
    "print(list(Most_important))\n",
    "#По важности (с конца)"
   ]
  },
  {
   "cell_type": "markdown",
   "metadata": {},
   "source": [
    "## Фидбек (бесценно)"
   ]
  },
  {
   "cell_type": "markdown",
   "metadata": {},
   "source": [
    "* Какие аспекты обучения деревьев решений Вам показались непонятными? Какое место стоит дополнительно объяснить?"
   ]
  },
  {
   "cell_type": "markdown",
   "metadata": {},
   "source": [
    "### Ваш ответ здесь"
   ]
  },
  {
   "cell_type": "markdown",
   "metadata": {},
   "source": [
    "* Здесь Вы можете оставить отзыв о этой домашней работе или о всем курсе."
   ]
  },
  {
   "cell_type": "markdown",
   "metadata": {},
   "source": [
    "### ВАШ ОТЗЫВ ЗДЕСЬ\n",
    "\n"
   ]
  },
  {
   "cell_type": "markdown",
   "metadata": {
    "collapsed": true
   },
   "source": [
    "Как вы могли заметить, я не считал поноценный функционал для сплита (не прибавлял гейн для основного узла), считал только долевые гейны для левого и правого узла, а потом минимизировал их (полный функционал пришлось бы максимизировать). Я не понимаю, почему, но при подсчёте и максимизации полного функционала моё дерево не работает. А вот тот вариант, который я реализовал, работает очень даже неплохо. Но это странно, ведь на лекции нам говорили про максимизацию полного функционала.\n",
    "\n",
    "Тут уже вопрос не к деревьям, а к кросс-валидации. Правильно ли я её реализовал? В целом, вопросов больше нет по ней."
   ]
  },
  {
   "cell_type": "markdown",
   "metadata": {
    "collapsed": true
   },
   "source": [
    "Очень сложно! Хорошо, что это кончилось. Надеюсь, я не облажался. Проблем было много. В целом, самая главная проблема в том, что кросс-валидация долго отказывалась выдавать НОРМАЛЬНЫЕ параметры. Пришлось даже 8 фолдов поставить, чтобы размер валидационной выборке был равен тесту. Ждал миллион лет. Ну и самым (казалось бы) тяжёлым оказалась обработка данных. Хорошо, что вы оставили ссылку на гит. Без неё я бы точно не справился. Много непонятного осталось связанного с обработкой, поэтому надеюсь, что моя обработка годится. \n",
    "Спасибо за проверку!"
   ]
  }
 ],
 "metadata": {
  "anaconda-cloud": {},
  "kernelspec": {
   "display_name": "Python 3",
   "language": "python",
   "name": "python3"
  },
  "language_info": {
   "codemirror_mode": {
    "name": "ipython",
    "version": 3
   },
   "file_extension": ".py",
   "mimetype": "text/x-python",
   "name": "python",
   "nbconvert_exporter": "python",
   "pygments_lexer": "ipython3",
   "version": "3.7.4"
  }
 },
 "nbformat": 4,
 "nbformat_minor": 2
}
